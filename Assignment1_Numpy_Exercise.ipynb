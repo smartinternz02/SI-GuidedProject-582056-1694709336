{
  "cells": [
    {
      "cell_type": "markdown",
      "metadata": {
        "id": "mMcWEbFiLKvn"
      },
      "source": [
        "# NumPy Exercises\n",
        "\n",
        "Now that we've learned about NumPy let's test your knowledge. We'll start off with a few simple tasks, and then you'll be asked some more complicated questions."
      ]
    },
    {
      "cell_type": "markdown",
      "metadata": {
        "id": "DvBjXHM1LKvw"
      },
      "source": [
        "#### Import NumPy as np"
      ]
    },
    {
      "cell_type": "code",
      "execution_count": null,
      "metadata": {
        "id": "StInvTamLKv0"
      },
      "outputs": [],
      "source": [
        "import numpy as np"
      ]
    },
    {
      "cell_type": "markdown",
      "metadata": {
        "id": "qav3VCgyLKv5"
      },
      "source": [
        "#### Create an array of 10 zeros"
      ]
    },
    {
      "cell_type": "code",
      "execution_count": null,
      "metadata": {
        "colab": {
          "base_uri": "https://localhost:8080/"
        },
        "id": "gLlF23CdLKv6",
        "outputId": "eacb0092-6dad-4383-f3f1-76d73450ad17"
      },
      "outputs": [
        {
          "output_type": "execute_result",
          "data": {
            "text/plain": [
              "array([0., 0., 0., 0., 0., 0., 0., 0., 0., 0.])"
            ]
          },
          "metadata": {},
          "execution_count": 2
        }
      ],
      "source": [
        "np.zeros(10)"
      ]
    },
    {
      "cell_type": "markdown",
      "metadata": {
        "id": "-r7m8k4vLKv_"
      },
      "source": [
        "#### Create an array of 10 ones"
      ]
    },
    {
      "cell_type": "code",
      "execution_count": null,
      "metadata": {
        "colab": {
          "base_uri": "https://localhost:8080/"
        },
        "id": "iwuCBhvcLKwB",
        "outputId": "987746a7-a869-48aa-8416-fe3c832f9725"
      },
      "outputs": [
        {
          "output_type": "execute_result",
          "data": {
            "text/plain": [
              "array([1., 1., 1., 1., 1., 1., 1., 1., 1., 1.])"
            ]
          },
          "metadata": {},
          "execution_count": 3
        }
      ],
      "source": [
        "np.ones(10)"
      ]
    },
    {
      "cell_type": "markdown",
      "metadata": {
        "id": "FIcddv6lLKwO"
      },
      "source": [
        "#### Create an array of 10 fives"
      ]
    },
    {
      "cell_type": "code",
      "execution_count": null,
      "metadata": {
        "colab": {
          "base_uri": "https://localhost:8080/"
        },
        "id": "tXDJ5b8cLKwU",
        "outputId": "397c5fcd-1e59-4059-9c93-6be020da4ced"
      },
      "outputs": [
        {
          "output_type": "execute_result",
          "data": {
            "text/plain": [
              "array([5, 5, 5, 5, 5, 5, 5, 5, 5, 5])"
            ]
          },
          "metadata": {},
          "execution_count": 5
        }
      ],
      "source": [
        "np.full(10,5)"
      ]
    },
    {
      "cell_type": "markdown",
      "metadata": {
        "id": "4UInvEwQLKwg"
      },
      "source": [
        "#### Create an array of the integers from 10 to 50"
      ]
    },
    {
      "cell_type": "code",
      "execution_count": null,
      "metadata": {
        "colab": {
          "base_uri": "https://localhost:8080/"
        },
        "id": "Z9kAbHHiLKwj",
        "outputId": "19a97b96-bf99-4c23-ab50-3b43f3d795c5"
      },
      "outputs": [
        {
          "output_type": "execute_result",
          "data": {
            "text/plain": [
              "array([10, 11, 12, 13, 14, 15, 16, 17, 18, 19, 20, 21, 22, 23, 24, 25, 26,\n",
              "       27, 28, 29, 30, 31, 32, 33, 34, 35, 36, 37, 38, 39, 40, 41, 42, 43,\n",
              "       44, 45, 46, 47, 48, 49, 50])"
            ]
          },
          "metadata": {},
          "execution_count": 6
        }
      ],
      "source": [
        "np.arange(10,51)"
      ]
    },
    {
      "cell_type": "markdown",
      "metadata": {
        "id": "3ZUIzdDeLKww"
      },
      "source": [
        "#### Create an array of all the even integers from 10 to 50"
      ]
    },
    {
      "cell_type": "code",
      "execution_count": null,
      "metadata": {
        "colab": {
          "base_uri": "https://localhost:8080/"
        },
        "id": "dVVfz73BLKw5",
        "outputId": "f62c820c-c78f-4b94-aeda-ef88ca85a210"
      },
      "outputs": [
        {
          "output_type": "execute_result",
          "data": {
            "text/plain": [
              "array([10, 12, 14, 16, 18, 20, 22, 24, 26, 28, 30, 32, 34, 36, 38, 40, 42,\n",
              "       44, 46, 48, 50])"
            ]
          },
          "metadata": {},
          "execution_count": 7
        }
      ],
      "source": [
        "np.arange(10,51,2)"
      ]
    },
    {
      "cell_type": "markdown",
      "metadata": {
        "id": "6e200i5-LKxB"
      },
      "source": [
        "#### Create a 3x3 matrix with values ranging from 0 to 8"
      ]
    },
    {
      "cell_type": "code",
      "execution_count": null,
      "metadata": {
        "colab": {
          "base_uri": "https://localhost:8080/"
        },
        "id": "6ODYRVCxLKxF",
        "outputId": "f19222db-e60b-4605-83c2-a79cc1c037f8"
      },
      "outputs": [
        {
          "output_type": "execute_result",
          "data": {
            "text/plain": [
              "array([[0, 1, 2],\n",
              "       [3, 4, 5],\n",
              "       [6, 7, 8]])"
            ]
          },
          "metadata": {},
          "execution_count": 8
        }
      ],
      "source": [
        "array_1d = np.arange(9)\n",
        "array_1d.reshape(3, 3)"
      ]
    },
    {
      "cell_type": "markdown",
      "metadata": {
        "id": "54wb4NboLKxN"
      },
      "source": [
        "#### Create a 3x3 identity matrix"
      ]
    },
    {
      "cell_type": "code",
      "execution_count": null,
      "metadata": {
        "colab": {
          "base_uri": "https://localhost:8080/"
        },
        "id": "j8JQg-VSLKxT",
        "outputId": "ae4d568d-e62e-444a-bf81-fca4d8f3b55b"
      },
      "outputs": [
        {
          "output_type": "execute_result",
          "data": {
            "text/plain": [
              "array([[1., 0., 0.],\n",
              "       [0., 1., 0.],\n",
              "       [0., 0., 1.]])"
            ]
          },
          "metadata": {},
          "execution_count": 9
        }
      ],
      "source": [
        "np.identity(3)"
      ]
    },
    {
      "cell_type": "markdown",
      "metadata": {
        "id": "_bpkEUARLKxa"
      },
      "source": [
        "#### Use NumPy to generate a random number between 0 and 1"
      ]
    },
    {
      "cell_type": "code",
      "execution_count": null,
      "metadata": {
        "colab": {
          "base_uri": "https://localhost:8080/"
        },
        "id": "Co4I1qACLKxc",
        "outputId": "161db197-440e-4de0-82eb-cdd7e87fc420"
      },
      "outputs": [
        {
          "output_type": "execute_result",
          "data": {
            "text/plain": [
              "0.013271747966982606"
            ]
          },
          "metadata": {},
          "execution_count": 10
        }
      ],
      "source": [
        "np.random.rand()"
      ]
    },
    {
      "cell_type": "markdown",
      "metadata": {
        "id": "7Qix8s61LKxp"
      },
      "source": [
        "#### Use NumPy to generate an array of 25 random numbers sampled from a standard normal distribution"
      ]
    },
    {
      "cell_type": "code",
      "execution_count": null,
      "metadata": {
        "colab": {
          "base_uri": "https://localhost:8080/"
        },
        "id": "eUgQBgpQLKxs",
        "outputId": "7cc31c5d-307f-4179-87b5-4df5045177a3"
      },
      "outputs": [
        {
          "output_type": "execute_result",
          "data": {
            "text/plain": [
              "array([-1.26017564,  0.53158675, -0.3162218 , -0.28575923, -1.38738975,\n",
              "       -0.14925411,  0.56903193, -0.84336426, -1.62145382,  0.05054008,\n",
              "       -0.50096727,  0.56841313,  0.13310042, -2.97079152,  0.14670392,\n",
              "        1.18248236,  0.552154  ,  0.60857144, -0.62658178,  0.14490813,\n",
              "       -0.24592704,  1.08710508,  1.80381859,  1.23860156,  0.39527548])"
            ]
          },
          "metadata": {},
          "execution_count": 11
        }
      ],
      "source": [
        "np.random.randn(25)"
      ]
    },
    {
      "cell_type": "markdown",
      "metadata": {
        "id": "-sL9HYlWLKx1"
      },
      "source": [
        "#### Create the following matrix:"
      ]
    },
    {
      "cell_type": "code",
      "execution_count": null,
      "metadata": {
        "colab": {
          "base_uri": "https://localhost:8080/"
        },
        "id": "p2pm5Mm6LKx5",
        "outputId": "a11fe2b0-02fd-45ae-a6dc-204f3f6b8036"
      },
      "outputs": [
        {
          "output_type": "execute_result",
          "data": {
            "text/plain": [
              "array([[0.01, 0.02, 0.03, 0.04, 0.05, 0.06, 0.07, 0.08, 0.09, 0.1 ],\n",
              "       [0.11, 0.12, 0.13, 0.14, 0.15, 0.16, 0.17, 0.18, 0.19, 0.2 ],\n",
              "       [0.21, 0.22, 0.23, 0.24, 0.25, 0.26, 0.27, 0.28, 0.29, 0.3 ],\n",
              "       [0.31, 0.32, 0.33, 0.34, 0.35, 0.36, 0.37, 0.38, 0.39, 0.4 ],\n",
              "       [0.41, 0.42, 0.43, 0.44, 0.45, 0.46, 0.47, 0.48, 0.49, 0.5 ],\n",
              "       [0.51, 0.52, 0.53, 0.54, 0.55, 0.56, 0.57, 0.58, 0.59, 0.6 ],\n",
              "       [0.61, 0.62, 0.63, 0.64, 0.65, 0.66, 0.67, 0.68, 0.69, 0.7 ],\n",
              "       [0.71, 0.72, 0.73, 0.74, 0.75, 0.76, 0.77, 0.78, 0.79, 0.8 ],\n",
              "       [0.81, 0.82, 0.83, 0.84, 0.85, 0.86, 0.87, 0.88, 0.89, 0.9 ],\n",
              "       [0.91, 0.92, 0.93, 0.94, 0.95, 0.96, 0.97, 0.98, 0.99, 1.  ]])"
            ]
          },
          "metadata": {},
          "execution_count": 12
        }
      ],
      "source": [
        "values = np.arange(0.01, 1.01, 0.01)\n",
        "values.reshape(10, 10)"
      ]
    },
    {
      "cell_type": "markdown",
      "metadata": {
        "id": "UQzj3r7NLKx_"
      },
      "source": [
        "#### Create an array of 20 linearly spaced points between 0 and 1:"
      ]
    },
    {
      "cell_type": "code",
      "execution_count": null,
      "metadata": {
        "colab": {
          "base_uri": "https://localhost:8080/"
        },
        "id": "AniTWWz9LKyC",
        "outputId": "9611d978-7f94-4be5-ae07-01b68d3f6656"
      },
      "outputs": [
        {
          "output_type": "execute_result",
          "data": {
            "text/plain": [
              "array([0.        , 0.05263158, 0.10526316, 0.15789474, 0.21052632,\n",
              "       0.26315789, 0.31578947, 0.36842105, 0.42105263, 0.47368421,\n",
              "       0.52631579, 0.57894737, 0.63157895, 0.68421053, 0.73684211,\n",
              "       0.78947368, 0.84210526, 0.89473684, 0.94736842, 1.        ])"
            ]
          },
          "metadata": {},
          "execution_count": 13
        }
      ],
      "source": [
        "np.linspace(0, 1, 20)"
      ]
    },
    {
      "cell_type": "markdown",
      "metadata": {
        "id": "i3vsM3rPLKyK"
      },
      "source": [
        "## Numpy Indexing and Selection\n",
        "\n",
        "Now you will be given a few matrices, and be asked to replicate the resulting matrix outputs:"
      ]
    },
    {
      "cell_type": "code",
      "execution_count": null,
      "metadata": {
        "id": "AM_s5FAvLKyN",
        "outputId": "b29d6933-31ca-4d45-d4c9-123877d1e7be"
      },
      "outputs": [
        {
          "data": {
            "text/plain": [
              "array([[ 1,  2,  3,  4,  5],\n",
              "       [ 6,  7,  8,  9, 10],\n",
              "       [11, 12, 13, 14, 15],\n",
              "       [16, 17, 18, 19, 20],\n",
              "       [21, 22, 23, 24, 25]])"
            ]
          },
          "execution_count": 38,
          "metadata": {
            "tags": []
          },
          "output_type": "execute_result"
        }
      ],
      "source": [
        "mat = np.arange(1,26).reshape(5,5)\n",
        "mat"
      ]
    },
    {
      "cell_type": "code",
      "execution_count": null,
      "metadata": {
        "id": "rxlUOQ4dLKyX"
      },
      "outputs": [],
      "source": [
        "# WRITE CODE HERE THAT REPRODUCES THE OUTPUT OF THE CELL BELOW\n",
        "# BE CAREFUL NOT TO RUN THE CELL BELOW, OTHERWISE YOU WON'T\n",
        "# BE ABLE TO SEE THE OUTPUT ANY MORE"
      ]
    },
    {
      "cell_type": "code",
      "execution_count": null,
      "metadata": {
        "colab": {
          "base_uri": "https://localhost:8080/"
        },
        "id": "2BJ3cylOLKyf",
        "outputId": "8bf6c14a-b20c-4399-d55f-cbc6effc600a"
      },
      "outputs": [
        {
          "output_type": "execute_result",
          "data": {
            "text/plain": [
              "array([[12, 13, 14, 15],\n",
              "       [17, 18, 19, 20],\n",
              "       [22, 23, 24, 25]])"
            ]
          },
          "metadata": {},
          "execution_count": 23
        }
      ],
      "source": [
        "mat = np.arange(1,26).reshape(5,5)\n",
        "mat[2:, 1:]"
      ]
    },
    {
      "cell_type": "code",
      "execution_count": null,
      "metadata": {
        "id": "9-U53vNoLKyw"
      },
      "outputs": [],
      "source": [
        "# WRITE CODE HERE THAT REPRODUCES THE OUTPUT OF THE CELL BELOW\n",
        "# BE CAREFUL NOT TO RUN THE CELL BELOW, OTHERWISE YOU WON'T\n",
        "# BE ABLE TO SEE THE OUTPUT ANY MORE"
      ]
    },
    {
      "cell_type": "code",
      "execution_count": null,
      "metadata": {
        "colab": {
          "base_uri": "https://localhost:8080/"
        },
        "id": "QJyclCVfLKy6",
        "outputId": "2e29e4e1-7bab-4d81-8437-9e3103f8d3f7"
      },
      "outputs": [
        {
          "output_type": "execute_result",
          "data": {
            "text/plain": [
              "20"
            ]
          },
          "metadata": {},
          "execution_count": 24
        }
      ],
      "source": [
        "mat[3,4]"
      ]
    },
    {
      "cell_type": "code",
      "execution_count": null,
      "metadata": {
        "id": "E_PuvjL5LKzH"
      },
      "outputs": [],
      "source": [
        "# WRITE CODE HERE THAT REPRODUCES THE OUTPUT OF THE CELL BELOW\n",
        "# BE CAREFUL NOT TO RUN THE CELL BELOW, OTHERWISE YOU WON'T\n",
        "# BE ABLE TO SEE THE OUTPUT ANY MORE"
      ]
    },
    {
      "cell_type": "code",
      "execution_count": null,
      "metadata": {
        "colab": {
          "base_uri": "https://localhost:8080/"
        },
        "id": "TzFTd7eHLKzY",
        "outputId": "37d16a7c-7197-4685-e541-e63d8dec5835"
      },
      "outputs": [
        {
          "output_type": "execute_result",
          "data": {
            "text/plain": [
              "array([[ 2],\n",
              "       [ 7],\n",
              "       [12]])"
            ]
          },
          "metadata": {},
          "execution_count": 25
        }
      ],
      "source": [
        "mat[:3, 1:2]"
      ]
    },
    {
      "cell_type": "code",
      "execution_count": null,
      "metadata": {
        "id": "BaybacXxLKze"
      },
      "outputs": [],
      "source": [
        "# WRITE CODE HERE THAT REPRODUCES THE OUTPUT OF THE CELL BELOW\n",
        "# BE CAREFUL NOT TO RUN THE CELL BELOW, OTHERWISE YOU WON'T\n",
        "# BE ABLE TO SEE THE OUTPUT ANY MORE"
      ]
    },
    {
      "cell_type": "code",
      "execution_count": null,
      "metadata": {
        "id": "hvblpMEFLKzl",
        "outputId": "95ecd0ff-f24a-4e5f-edae-481966a15a0a"
      },
      "outputs": [
        {
          "data": {
            "text/plain": [
              "array([21, 22, 23, 24, 25])"
            ]
          },
          "execution_count": 46,
          "metadata": {
            "tags": []
          },
          "output_type": "execute_result"
        }
      ],
      "source": [
        "mat[4, :]"
      ]
    },
    {
      "cell_type": "code",
      "execution_count": null,
      "metadata": {
        "id": "L0SoIZfILKzr"
      },
      "outputs": [],
      "source": [
        "# WRITE CODE HERE THAT REPRODUCES THE OUTPUT OF THE CELL BELOW\n",
        "# BE CAREFUL NOT TO RUN THE CELL BELOW, OTHERWISE YOU WON'T\n",
        "# BE ABLE TO SEE THE OUTPUT ANY MORE"
      ]
    },
    {
      "cell_type": "code",
      "execution_count": null,
      "metadata": {
        "id": "h2NmY81aLKzv",
        "outputId": "ec3006aa-5bd4-43ef-b876-f0475c9a26ce"
      },
      "outputs": [
        {
          "data": {
            "text/plain": [
              "array([[16, 17, 18, 19, 20],\n",
              "       [21, 22, 23, 24, 25]])"
            ]
          },
          "execution_count": 49,
          "metadata": {
            "tags": []
          },
          "output_type": "execute_result"
        }
      ],
      "source": [
        "mat[3:, :]"
      ]
    },
    {
      "cell_type": "markdown",
      "metadata": {
        "id": "40ijP69QLKz6"
      },
      "source": [
        "### Now do the following"
      ]
    },
    {
      "cell_type": "markdown",
      "metadata": {
        "id": "hJYmPKZ6LKz7"
      },
      "source": [
        "#### Get the sum of all the values in mat"
      ]
    },
    {
      "cell_type": "code",
      "execution_count": null,
      "metadata": {
        "colab": {
          "base_uri": "https://localhost:8080/"
        },
        "id": "lgjWcsNHLKz9",
        "outputId": "74eb00cf-ba13-4b28-a5cd-488642f2e851"
      },
      "outputs": [
        {
          "output_type": "execute_result",
          "data": {
            "text/plain": [
              "325"
            ]
          },
          "metadata": {},
          "execution_count": 20
        }
      ],
      "source": [
        "mat = np.arange(1,26).reshape(5,5)\n",
        "np.sum(mat)"
      ]
    },
    {
      "cell_type": "markdown",
      "metadata": {
        "id": "aOxAVLe8LK0B"
      },
      "source": [
        "#### Get the standard deviation of the values in mat"
      ]
    },
    {
      "cell_type": "code",
      "execution_count": null,
      "metadata": {
        "colab": {
          "base_uri": "https://localhost:8080/"
        },
        "id": "1bExi0tvLK0D",
        "outputId": "c65287bc-10ab-4c85-8aea-97a0ece3000f"
      },
      "outputs": [
        {
          "output_type": "execute_result",
          "data": {
            "text/plain": [
              "7.211102550927978"
            ]
          },
          "metadata": {},
          "execution_count": 21
        }
      ],
      "source": [
        "np.std(mat)"
      ]
    },
    {
      "cell_type": "markdown",
      "metadata": {
        "id": "qWvkrLQWLK0H"
      },
      "source": [
        "#### Get the sum of all the columns in mat"
      ]
    },
    {
      "cell_type": "code",
      "execution_count": null,
      "metadata": {
        "colab": {
          "base_uri": "https://localhost:8080/"
        },
        "id": "-XFw4SD1LK0J",
        "outputId": "862e8c33-e7f3-4c12-f672-a03065e3fc31"
      },
      "outputs": [
        {
          "output_type": "execute_result",
          "data": {
            "text/plain": [
              "array([55, 60, 65, 70, 75])"
            ]
          },
          "metadata": {},
          "execution_count": 22
        }
      ],
      "source": [
        "np.sum(mat, axis=0)\n"
      ]
    },
    {
      "cell_type": "markdown",
      "metadata": {
        "collapsed": true,
        "id": "x75g5hGlLK0N"
      },
      "source": []
    }
  ],
  "metadata": {
    "colab": {
      "provenance": []
    },
    "kernelspec": {
      "display_name": "Python 3",
      "language": "python",
      "name": "python3"
    },
    "language_info": {
      "codemirror_mode": {
        "name": "ipython",
        "version": 3
      },
      "file_extension": ".py",
      "mimetype": "text/x-python",
      "name": "python",
      "nbconvert_exporter": "python",
      "pygments_lexer": "ipython3",
      "version": "3.8.0"
    }
  },
  "nbformat": 4,
  "nbformat_minor": 0
}